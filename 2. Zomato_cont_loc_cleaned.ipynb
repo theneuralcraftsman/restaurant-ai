{
 "cells": [
  {
   "cell_type": "markdown",
   "metadata": {},
   "source": [
    "# Zomato Data Analysis\n",
    "This notebook is continued after `ZomatoKolDataCleaning.ipynb` in which location column was cleaned "
   ]
  },
  {
   "cell_type": "code",
   "execution_count": null,
   "metadata": {},
   "outputs": [],
   "source": [
    "import matplotlib.pyplot as plt\n",
    "import seaborn as sns\n",
    "import pandas as pd\n",
    "import numpy as np "
   ]
  },
  {
   "cell_type": "code",
   "execution_count": 2,
   "metadata": {},
   "outputs": [],
   "source": [
    "\n",
    "\n",
    "filepath = 'checkpoint3_locations_cleaned.csv'\n",
    "\n",
    "df = pd.read_csv(filepath)"
   ]
  },
  {
   "cell_type": "markdown",
   "metadata": {},
   "source": [
    "Visualization"
   ]
  },
  {
   "cell_type": "code",
   "execution_count": 3,
   "metadata": {},
   "outputs": [
    {
     "data": {
      "text/html": [
       "<div>\n",
       "<style scoped>\n",
       "    .dataframe tbody tr th:only-of-type {\n",
       "        vertical-align: middle;\n",
       "    }\n",
       "\n",
       "    .dataframe tbody tr th {\n",
       "        vertical-align: top;\n",
       "    }\n",
       "\n",
       "    .dataframe thead th {\n",
       "        text-align: right;\n",
       "    }\n",
       "</style>\n",
       "<table border=\"1\" class=\"dataframe\">\n",
       "  <thead>\n",
       "    <tr style=\"text-align: right;\">\n",
       "      <th></th>\n",
       "      <th>name</th>\n",
       "      <th>voteCount</th>\n",
       "      <th>rating</th>\n",
       "      <th>address</th>\n",
       "      <th>cusine</th>\n",
       "      <th>cost</th>\n",
       "      <th>timing</th>\n",
       "      <th>City</th>\n",
       "      <th>Location</th>\n",
       "    </tr>\n",
       "  </thead>\n",
       "  <tbody>\n",
       "    <tr>\n",
       "      <th>0</th>\n",
       "      <td>Peter Cat</td>\n",
       "      <td>12404 votes</td>\n",
       "      <td>4.2</td>\n",
       "      <td>18A, Park Street, Park Street Area, Kolkata</td>\n",
       "      <td>North Indian, Continental</td>\n",
       "      <td>₹1,000</td>\n",
       "      <td>11am – 11:20pm (Mon-Sun)</td>\n",
       "      <td>Kolkata</td>\n",
       "      <td>Park Street Area</td>\n",
       "    </tr>\n",
       "    <tr>\n",
       "      <th>1</th>\n",
       "      <td>Naturals Ice Cream</td>\n",
       "      <td>2498 votes</td>\n",
       "      <td>4.9</td>\n",
       "      <td>77/1/A, Ground Floor, Near West Bengal Board, ...</td>\n",
       "      <td>North Indian, Continental</td>\n",
       "      <td>₹200</td>\n",
       "      <td>11am – 12midnight (Mon-Sun)</td>\n",
       "      <td>Kolkata</td>\n",
       "      <td>Park Street Area</td>\n",
       "    </tr>\n",
       "    <tr>\n",
       "      <th>2</th>\n",
       "      <td>Carpe Diem</td>\n",
       "      <td>4083 votes</td>\n",
       "      <td>4.4</td>\n",
       "      <td>18M, Park Street Area, Kolkata</td>\n",
       "      <td>Ice Cream</td>\n",
       "      <td>₹1,000</td>\n",
       "      <td>12noon – 12midnight (Mon, Tue, Wed, Thu, Fri...</td>\n",
       "      <td>Kolkata</td>\n",
       "      <td>Park Street Area</td>\n",
       "    </tr>\n",
       "    <tr>\n",
       "      <th>3</th>\n",
       "      <td>Barbeque Nation</td>\n",
       "      <td>5455 votes</td>\n",
       "      <td>4.6</td>\n",
       "      <td>1st Floor, 24, Park Center Building, Park Stre...</td>\n",
       "      <td>Ice Cream</td>\n",
       "      <td>₹1,800</td>\n",
       "      <td>12noon – 3:30pm, 6:30pm – 10:45pm (Mon-Sun)</td>\n",
       "      <td>Kolkata</td>\n",
       "      <td>Park Street Area</td>\n",
       "    </tr>\n",
       "    <tr>\n",
       "      <th>4</th>\n",
       "      <td>Flurys</td>\n",
       "      <td>4709 votes</td>\n",
       "      <td>4.2</td>\n",
       "      <td>15, Apeejay House, Park Street Area, Kolkata</td>\n",
       "      <td>Chinese, North Indian, Continental</td>\n",
       "      <td>₹400</td>\n",
       "      <td>7:30am – 11pm (Mon-Sun)</td>\n",
       "      <td>Kolkata</td>\n",
       "      <td>Park Street Area</td>\n",
       "    </tr>\n",
       "  </tbody>\n",
       "</table>\n",
       "</div>"
      ],
      "text/plain": [
       "                 name    voteCount  rating  \\\n",
       "0           Peter Cat  12404 votes     4.2   \n",
       "1  Naturals Ice Cream   2498 votes     4.9   \n",
       "2          Carpe Diem   4083 votes     4.4   \n",
       "3     Barbeque Nation   5455 votes     4.6   \n",
       "4              Flurys   4709 votes     4.2   \n",
       "\n",
       "                                             address  \\\n",
       "0        18A, Park Street, Park Street Area, Kolkata   \n",
       "1  77/1/A, Ground Floor, Near West Bengal Board, ...   \n",
       "2                     18M, Park Street Area, Kolkata   \n",
       "3  1st Floor, 24, Park Center Building, Park Stre...   \n",
       "4       15, Apeejay House, Park Street Area, Kolkata   \n",
       "\n",
       "                               cusine    cost  \\\n",
       "0           North Indian, Continental  ₹1,000   \n",
       "1           North Indian, Continental    ₹200   \n",
       "2                           Ice Cream  ₹1,000   \n",
       "3                           Ice Cream  ₹1,800   \n",
       "4  Chinese, North Indian, Continental    ₹400   \n",
       "\n",
       "                                            timing     City          Location  \n",
       "0                         11am – 11:20pm (Mon-Sun)  Kolkata  Park Street Area  \n",
       "1                      11am – 12midnight (Mon-Sun)  Kolkata  Park Street Area  \n",
       "2  12noon – 12midnight (Mon, Tue, Wed, Thu, Fri...  Kolkata  Park Street Area  \n",
       "3      12noon – 3:30pm, 6:30pm – 10:45pm (Mon-Sun)  Kolkata  Park Street Area  \n",
       "4                          7:30am – 11pm (Mon-Sun)  Kolkata  Park Street Area  "
      ]
     },
     "execution_count": 3,
     "metadata": {},
     "output_type": "execute_result"
    }
   ],
   "source": [
    "df.head()"
   ]
  },
  {
   "cell_type": "code",
   "execution_count": 4,
   "metadata": {},
   "outputs": [
    {
     "name": "stdout",
     "output_type": "stream",
     "text": [
      "<class 'pandas.core.frame.DataFrame'>\n",
      "RangeIndex: 7082 entries, 0 to 7081\n",
      "Data columns (total 9 columns):\n",
      " #   Column     Non-Null Count  Dtype  \n",
      "---  ------     --------------  -----  \n",
      " 0   name       7082 non-null   object \n",
      " 1   voteCount  7082 non-null   object \n",
      " 2   rating     7082 non-null   float64\n",
      " 3   address    7082 non-null   object \n",
      " 4   cusine     7082 non-null   object \n",
      " 5   cost       7082 non-null   object \n",
      " 6   timing     7082 non-null   object \n",
      " 7   City       7082 non-null   object \n",
      " 8   Location   7082 non-null   object \n",
      "dtypes: float64(1), object(8)\n",
      "memory usage: 498.1+ KB\n"
     ]
    }
   ],
   "source": [
    "df.info()"
   ]
  },
  {
   "cell_type": "code",
   "execution_count": 7,
   "metadata": {},
   "outputs": [
    {
     "data": {
      "text/plain": [
       "City\n",
       "Kolkata      6235\n",
       "Howrah        479\n",
       "Salt Lake     367\n",
       "Bangalore       1\n",
       "Name: count, dtype: int64"
      ]
     },
     "execution_count": 7,
     "metadata": {},
     "output_type": "execute_result"
    }
   ],
   "source": [
    "df['City'].value_counts()"
   ]
  },
  {
   "cell_type": "markdown",
   "metadata": {},
   "source": [
    "## Timing column cleaning"
   ]
  },
  {
   "cell_type": "code",
   "execution_count": null,
   "metadata": {},
   "outputs": [],
   "source": []
  }
 ],
 "metadata": {
  "kernelspec": {
   "display_name": "tf-gpu",
   "language": "python",
   "name": "python3"
  },
  "language_info": {
   "codemirror_mode": {
    "name": "ipython",
    "version": 3
   },
   "file_extension": ".py",
   "mimetype": "text/x-python",
   "name": "python",
   "nbconvert_exporter": "python",
   "pygments_lexer": "ipython3",
   "version": "3.10.13"
  }
 },
 "nbformat": 4,
 "nbformat_minor": 2
}
